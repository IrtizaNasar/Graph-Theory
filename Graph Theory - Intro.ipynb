{
 "cells": [
  {
   "cell_type": "markdown",
   "id": "266f4639",
   "metadata": {},
   "source": [
    "# Analysis on Airline Dataset"
   ]
  },
  {
   "cell_type": "markdown",
   "id": "0e5896ae",
   "metadata": {},
   "source": [
    "## Importing Libraries and Loading Dataset"
   ]
  },
  {
   "cell_type": "code",
   "execution_count": null,
   "id": "a71c7ca4",
   "metadata": {},
   "outputs": [],
   "source": [
    "import pandas as pd\n",
    "import numpy as np\n",
    "data = pd.read_csv('data/Airlines.csv')"
   ]
  },
  {
   "cell_type": "markdown",
   "id": "dff1dd24",
   "metadata": {},
   "source": [
    "## Exploring Data"
   ]
  },
  {
   "cell_type": "code",
   "execution_count": 4,
   "id": "2247c22f",
   "metadata": {
    "scrolled": false
   },
   "outputs": [
    {
     "data": {
      "text/html": [
       "<div>\n",
       "<style scoped>\n",
       "    .dataframe tbody tr th:only-of-type {\n",
       "        vertical-align: middle;\n",
       "    }\n",
       "\n",
       "    .dataframe tbody tr th {\n",
       "        vertical-align: top;\n",
       "    }\n",
       "\n",
       "    .dataframe thead th {\n",
       "        text-align: right;\n",
       "    }\n",
       "</style>\n",
       "<table border=\"1\" class=\"dataframe\">\n",
       "  <thead>\n",
       "    <tr style=\"text-align: right;\">\n",
       "      <th></th>\n",
       "      <th>year</th>\n",
       "      <th>month</th>\n",
       "      <th>day</th>\n",
       "      <th>dep_time</th>\n",
       "      <th>sched_dep_time</th>\n",
       "      <th>dep_delay</th>\n",
       "      <th>arr_time</th>\n",
       "      <th>sched_arr_time</th>\n",
       "      <th>arr_delay</th>\n",
       "      <th>carrier</th>\n",
       "      <th>flight</th>\n",
       "      <th>tailnum</th>\n",
       "      <th>origin</th>\n",
       "      <th>dest</th>\n",
       "      <th>air_time</th>\n",
       "      <th>distance</th>\n",
       "    </tr>\n",
       "  </thead>\n",
       "  <tbody>\n",
       "    <tr>\n",
       "      <th>0</th>\n",
       "      <td>2013</td>\n",
       "      <td>2</td>\n",
       "      <td>26</td>\n",
       "      <td>1807.0</td>\n",
       "      <td>1630</td>\n",
       "      <td>97.0</td>\n",
       "      <td>1956.0</td>\n",
       "      <td>1837</td>\n",
       "      <td>79.0</td>\n",
       "      <td>EV</td>\n",
       "      <td>4411</td>\n",
       "      <td>N13566</td>\n",
       "      <td>EWR</td>\n",
       "      <td>MEM</td>\n",
       "      <td>144.0</td>\n",
       "      <td>946</td>\n",
       "    </tr>\n",
       "    <tr>\n",
       "      <th>1</th>\n",
       "      <td>2013</td>\n",
       "      <td>8</td>\n",
       "      <td>17</td>\n",
       "      <td>1459.0</td>\n",
       "      <td>1445</td>\n",
       "      <td>14.0</td>\n",
       "      <td>1801.0</td>\n",
       "      <td>1747</td>\n",
       "      <td>14.0</td>\n",
       "      <td>B6</td>\n",
       "      <td>1171</td>\n",
       "      <td>N661JB</td>\n",
       "      <td>LGA</td>\n",
       "      <td>FLL</td>\n",
       "      <td>147.0</td>\n",
       "      <td>1076</td>\n",
       "    </tr>\n",
       "    <tr>\n",
       "      <th>2</th>\n",
       "      <td>2013</td>\n",
       "      <td>2</td>\n",
       "      <td>13</td>\n",
       "      <td>1812.0</td>\n",
       "      <td>1815</td>\n",
       "      <td>-3.0</td>\n",
       "      <td>2055.0</td>\n",
       "      <td>2125</td>\n",
       "      <td>-30.0</td>\n",
       "      <td>AS</td>\n",
       "      <td>7</td>\n",
       "      <td>N403AS</td>\n",
       "      <td>EWR</td>\n",
       "      <td>SEA</td>\n",
       "      <td>315.0</td>\n",
       "      <td>2402</td>\n",
       "    </tr>\n",
       "    <tr>\n",
       "      <th>3</th>\n",
       "      <td>2013</td>\n",
       "      <td>4</td>\n",
       "      <td>11</td>\n",
       "      <td>2122.0</td>\n",
       "      <td>2115</td>\n",
       "      <td>7.0</td>\n",
       "      <td>2339.0</td>\n",
       "      <td>2353</td>\n",
       "      <td>-14.0</td>\n",
       "      <td>B6</td>\n",
       "      <td>97</td>\n",
       "      <td>N656JB</td>\n",
       "      <td>JFK</td>\n",
       "      <td>DEN</td>\n",
       "      <td>221.0</td>\n",
       "      <td>1626</td>\n",
       "    </tr>\n",
       "    <tr>\n",
       "      <th>4</th>\n",
       "      <td>2013</td>\n",
       "      <td>8</td>\n",
       "      <td>5</td>\n",
       "      <td>1832.0</td>\n",
       "      <td>1835</td>\n",
       "      <td>-3.0</td>\n",
       "      <td>2145.0</td>\n",
       "      <td>2155</td>\n",
       "      <td>-10.0</td>\n",
       "      <td>AA</td>\n",
       "      <td>269</td>\n",
       "      <td>N3EYAA</td>\n",
       "      <td>JFK</td>\n",
       "      <td>SEA</td>\n",
       "      <td>358.0</td>\n",
       "      <td>2422</td>\n",
       "    </tr>\n",
       "    <tr>\n",
       "      <th>...</th>\n",
       "      <td>...</td>\n",
       "      <td>...</td>\n",
       "      <td>...</td>\n",
       "      <td>...</td>\n",
       "      <td>...</td>\n",
       "      <td>...</td>\n",
       "      <td>...</td>\n",
       "      <td>...</td>\n",
       "      <td>...</td>\n",
       "      <td>...</td>\n",
       "      <td>...</td>\n",
       "      <td>...</td>\n",
       "      <td>...</td>\n",
       "      <td>...</td>\n",
       "      <td>...</td>\n",
       "      <td>...</td>\n",
       "    </tr>\n",
       "    <tr>\n",
       "      <th>95</th>\n",
       "      <td>2013</td>\n",
       "      <td>11</td>\n",
       "      <td>29</td>\n",
       "      <td>1129.0</td>\n",
       "      <td>1135</td>\n",
       "      <td>-6.0</td>\n",
       "      <td>1414.0</td>\n",
       "      <td>1436</td>\n",
       "      <td>-22.0</td>\n",
       "      <td>DL</td>\n",
       "      <td>1875</td>\n",
       "      <td>N342NB</td>\n",
       "      <td>LGA</td>\n",
       "      <td>TPA</td>\n",
       "      <td>147.0</td>\n",
       "      <td>1010</td>\n",
       "    </tr>\n",
       "    <tr>\n",
       "      <th>96</th>\n",
       "      <td>2013</td>\n",
       "      <td>3</td>\n",
       "      <td>10</td>\n",
       "      <td>1029.0</td>\n",
       "      <td>1029</td>\n",
       "      <td>0.0</td>\n",
       "      <td>1300.0</td>\n",
       "      <td>1344</td>\n",
       "      <td>-44.0</td>\n",
       "      <td>UA</td>\n",
       "      <td>1605</td>\n",
       "      <td>N37465</td>\n",
       "      <td>EWR</td>\n",
       "      <td>LAX</td>\n",
       "      <td>308.0</td>\n",
       "      <td>2454</td>\n",
       "    </tr>\n",
       "    <tr>\n",
       "      <th>97</th>\n",
       "      <td>2013</td>\n",
       "      <td>11</td>\n",
       "      <td>25</td>\n",
       "      <td>1724.0</td>\n",
       "      <td>1725</td>\n",
       "      <td>-1.0</td>\n",
       "      <td>1828.0</td>\n",
       "      <td>1845</td>\n",
       "      <td>-17.0</td>\n",
       "      <td>AA</td>\n",
       "      <td>256</td>\n",
       "      <td>N3CTAA</td>\n",
       "      <td>JFK</td>\n",
       "      <td>BOS</td>\n",
       "      <td>40.0</td>\n",
       "      <td>187</td>\n",
       "    </tr>\n",
       "    <tr>\n",
       "      <th>98</th>\n",
       "      <td>2013</td>\n",
       "      <td>3</td>\n",
       "      <td>5</td>\n",
       "      <td>930.0</td>\n",
       "      <td>929</td>\n",
       "      <td>1.0</td>\n",
       "      <td>1421.0</td>\n",
       "      <td>1426</td>\n",
       "      <td>-5.0</td>\n",
       "      <td>B6</td>\n",
       "      <td>215</td>\n",
       "      <td>N638JB</td>\n",
       "      <td>EWR</td>\n",
       "      <td>SJU</td>\n",
       "      <td>200.0</td>\n",
       "      <td>1608</td>\n",
       "    </tr>\n",
       "    <tr>\n",
       "      <th>99</th>\n",
       "      <td>2013</td>\n",
       "      <td>5</td>\n",
       "      <td>21</td>\n",
       "      <td>626.0</td>\n",
       "      <td>630</td>\n",
       "      <td>-4.0</td>\n",
       "      <td>858.0</td>\n",
       "      <td>918</td>\n",
       "      <td>-20.0</td>\n",
       "      <td>UA</td>\n",
       "      <td>490</td>\n",
       "      <td>N447UA</td>\n",
       "      <td>LGA</td>\n",
       "      <td>IAH</td>\n",
       "      <td>189.0</td>\n",
       "      <td>1416</td>\n",
       "    </tr>\n",
       "  </tbody>\n",
       "</table>\n",
       "<p>100 rows × 16 columns</p>\n",
       "</div>"
      ],
      "text/plain": [
       "    year  month  day  dep_time  sched_dep_time  dep_delay  arr_time  \\\n",
       "0   2013      2   26    1807.0            1630       97.0    1956.0   \n",
       "1   2013      8   17    1459.0            1445       14.0    1801.0   \n",
       "2   2013      2   13    1812.0            1815       -3.0    2055.0   \n",
       "3   2013      4   11    2122.0            2115        7.0    2339.0   \n",
       "4   2013      8    5    1832.0            1835       -3.0    2145.0   \n",
       "..   ...    ...  ...       ...             ...        ...       ...   \n",
       "95  2013     11   29    1129.0            1135       -6.0    1414.0   \n",
       "96  2013      3   10    1029.0            1029        0.0    1300.0   \n",
       "97  2013     11   25    1724.0            1725       -1.0    1828.0   \n",
       "98  2013      3    5     930.0             929        1.0    1421.0   \n",
       "99  2013      5   21     626.0             630       -4.0     858.0   \n",
       "\n",
       "    sched_arr_time  arr_delay carrier  flight tailnum origin dest  air_time  \\\n",
       "0             1837       79.0      EV    4411  N13566    EWR  MEM     144.0   \n",
       "1             1747       14.0      B6    1171  N661JB    LGA  FLL     147.0   \n",
       "2             2125      -30.0      AS       7  N403AS    EWR  SEA     315.0   \n",
       "3             2353      -14.0      B6      97  N656JB    JFK  DEN     221.0   \n",
       "4             2155      -10.0      AA     269  N3EYAA    JFK  SEA     358.0   \n",
       "..             ...        ...     ...     ...     ...    ...  ...       ...   \n",
       "95            1436      -22.0      DL    1875  N342NB    LGA  TPA     147.0   \n",
       "96            1344      -44.0      UA    1605  N37465    EWR  LAX     308.0   \n",
       "97            1845      -17.0      AA     256  N3CTAA    JFK  BOS      40.0   \n",
       "98            1426       -5.0      B6     215  N638JB    EWR  SJU     200.0   \n",
       "99             918      -20.0      UA     490  N447UA    LGA  IAH     189.0   \n",
       "\n",
       "    distance  \n",
       "0        946  \n",
       "1       1076  \n",
       "2       2402  \n",
       "3       1626  \n",
       "4       2422  \n",
       "..       ...  \n",
       "95      1010  \n",
       "96      2454  \n",
       "97       187  \n",
       "98      1608  \n",
       "99      1416  \n",
       "\n",
       "[100 rows x 16 columns]"
      ]
     },
     "execution_count": 4,
     "metadata": {},
     "output_type": "execute_result"
    }
   ],
   "source": [
    "data"
   ]
  },
  {
   "cell_type": "code",
   "execution_count": 46,
   "id": "a1e632b0",
   "metadata": {},
   "outputs": [],
   "source": [
    "# converting sched_dep_time to 'std' - Scheduled time of departure\n",
    "# data['std'] = data.sched_dep_time.astype(str).str.replace('(\\d{2}$)', '') + ':' + data.sched_dep_time.astype(str).str.extract('(\\d{2}$)', expand=False) + ':00'"
   ]
  },
  {
   "cell_type": "code",
   "execution_count": 47,
   "id": "ca8dfa39",
   "metadata": {},
   "outputs": [],
   "source": [
    "# converting sched_arr_time to 'sta' - Scheduled time of arrival\n",
    "# data['sta'] = data.sched_arr_time.astype(str).str.replace('(\\d{2}$)', '') + ':' + data.sched_arr_time.astype(str).str.extract('(\\d{2}$)', expand=False) + ':00'\n",
    "\n",
    "# converting dep_time to 'atd' - Actual time of departure\n",
    "# data['atd'] = data.dep_time.fillna(0).astype(np.int64).astype(str).str.replace('(\\d{2}$)', '') + ':' + data.dep_time.fillna(0).astype(np.int64).astype(str).str.extract('(\\d{2}$)', expand=False) + ':00'"
   ]
  },
  {
   "cell_type": "code",
   "execution_count": 48,
   "id": "61bd5415",
   "metadata": {},
   "outputs": [],
   "source": [
    "# converting arr_time to 'ata' - Actual time of arrival\n",
    "# data['ata'] = data.arr_time.fillna(0).astype(np.int64).astype(str).str.replace('(\\d{2}$)', '') + ':' + data.arr_time.fillna(0).astype(np.int64).astype(str).str.extract('(\\d{2}$)', expand=False) + ':00'"
   ]
  },
  {
   "cell_type": "code",
   "execution_count": 49,
   "id": "71f38cc0",
   "metadata": {},
   "outputs": [],
   "source": [
    "# data"
   ]
  },
  {
   "cell_type": "code",
   "execution_count": 39,
   "id": "74d6a496",
   "metadata": {},
   "outputs": [
    {
     "data": {
      "text/plain": [
       "year                int64\n",
       "month               int64\n",
       "day                 int64\n",
       "dep_time          float64\n",
       "sched_dep_time      int64\n",
       "dep_delay         float64\n",
       "arr_time          float64\n",
       "sched_arr_time      int64\n",
       "arr_delay         float64\n",
       "carrier            object\n",
       "flight              int64\n",
       "tailnum            object\n",
       "origin             object\n",
       "dest               object\n",
       "air_time          float64\n",
       "distance            int64\n",
       "std                object\n",
       "sta                object\n",
       "atd                object\n",
       "ata                object\n",
       "dtype: object"
      ]
     },
     "execution_count": 39,
     "metadata": {},
     "output_type": "execute_result"
    }
   ],
   "source": [
    "data.dtypes"
   ]
  },
  {
   "cell_type": "code",
   "execution_count": 6,
   "id": "ffd0d9ac",
   "metadata": {},
   "outputs": [
    {
     "name": "stdout",
     "output_type": "stream",
     "text": [
      "Collecting networkx\n",
      "  Downloading networkx-2.8.4-py3-none-any.whl (2.0 MB)\n",
      "\u001b[K     |████████████████████████████████| 2.0 MB 3.9 MB/s eta 0:00:01\n",
      "\u001b[?25hInstalling collected packages: networkx\n",
      "Successfully installed networkx-2.8.4\n"
     ]
    }
   ],
   "source": [
    "!pip install networkx"
   ]
  },
  {
   "cell_type": "code",
   "execution_count": 7,
   "id": "c812c49e",
   "metadata": {},
   "outputs": [],
   "source": [
    "import networkx as nx\n",
    "df = nx.from_pandas_edgelist(data, source='origin', target='dest', edge_attr=True)"
   ]
  },
  {
   "cell_type": "code",
   "execution_count": 8,
   "id": "cd31fcab",
   "metadata": {},
   "outputs": [
    {
     "data": {
      "text/plain": [
       "NodeView(('EWR', 'MEM', 'LGA', 'FLL', 'SEA', 'JFK', 'DEN', 'ORD', 'MIA', 'PBI', 'MCO', 'CMH', 'MSP', 'IAD', 'CLT', 'TPA', 'DCA', 'SJU', 'ATL', 'BHM', 'SRQ', 'MSY', 'DTW', 'LAX', 'JAX', 'RDU', 'MDW', 'DFW', 'IAH', 'SFO', 'STL', 'CVG', 'IND', 'RSW', 'BOS', 'CLE'))"
      ]
     },
     "execution_count": 8,
     "metadata": {},
     "output_type": "execute_result"
    }
   ],
   "source": [
    "df.nodes()"
   ]
  },
  {
   "cell_type": "code",
   "execution_count": 9,
   "id": "37664baa",
   "metadata": {},
   "outputs": [
    {
     "data": {
      "text/plain": [
       "EdgeView([('EWR', 'MEM'), ('EWR', 'SEA'), ('EWR', 'MIA'), ('EWR', 'ORD'), ('EWR', 'MSP'), ('EWR', 'TPA'), ('EWR', 'MSY'), ('EWR', 'DFW'), ('EWR', 'IAH'), ('EWR', 'SFO'), ('EWR', 'CVG'), ('EWR', 'IND'), ('EWR', 'RDU'), ('EWR', 'IAD'), ('EWR', 'RSW'), ('EWR', 'BOS'), ('EWR', 'PBI'), ('EWR', 'LAX'), ('EWR', 'MCO'), ('EWR', 'SJU'), ('LGA', 'FLL'), ('LGA', 'ORD'), ('LGA', 'PBI'), ('LGA', 'CMH'), ('LGA', 'IAD'), ('LGA', 'CLT'), ('LGA', 'MIA'), ('LGA', 'DCA'), ('LGA', 'BHM'), ('LGA', 'RDU'), ('LGA', 'ATL'), ('LGA', 'TPA'), ('LGA', 'MDW'), ('LGA', 'DEN'), ('LGA', 'MSP'), ('LGA', 'DTW'), ('LGA', 'STL'), ('LGA', 'MCO'), ('LGA', 'CVG'), ('LGA', 'IAH'), ('FLL', 'JFK'), ('SEA', 'JFK'), ('JFK', 'DEN'), ('JFK', 'MCO'), ('JFK', 'TPA'), ('JFK', 'SJU'), ('JFK', 'ATL'), ('JFK', 'SRQ'), ('JFK', 'DCA'), ('JFK', 'DTW'), ('JFK', 'LAX'), ('JFK', 'JAX'), ('JFK', 'CLT'), ('JFK', 'PBI'), ('JFK', 'CLE'), ('JFK', 'IAD'), ('JFK', 'BOS')])"
      ]
     },
     "execution_count": 9,
     "metadata": {},
     "output_type": "execute_result"
    }
   ],
   "source": [
    "df.edges()"
   ]
  },
  {
   "cell_type": "code",
   "execution_count": 41,
   "id": "68d2c1b4",
   "metadata": {},
   "outputs": [
    {
     "data": {
      "text/plain": [
       "0.09047619047619047"
      ]
     },
     "execution_count": 41,
     "metadata": {},
     "output_type": "execute_result"
    }
   ],
   "source": [
    "nx.density(df) # Average edge density of the Graph"
   ]
  },
  {
   "cell_type": "code",
   "execution_count": 11,
   "id": "4052edd3",
   "metadata": {},
   "outputs": [
    {
     "data": {
      "image/png": "[encoded data removed]",
      "text/plain": [
       "<Figure size 864x576 with 1 Axes>"
      ]
     },
     "metadata": {},
     "output_type": "display_data"
    }
   ],
   "source": [
    "import matplotlib.pyplot as plt\n",
    "%matplotlib inline\n",
    "\n",
    "plt.figure(figsize=(12,8))\n",
    "nx.draw_networkx(df, with_labels=True)"
   ]
  },
  {
   "cell_type": "code",
   "execution_count": 23,
   "id": "46ff67ec",
   "metadata": {},
   "outputs": [
    {
     "data": {
      "text/plain": [
       "{'EWR': 0.5714285714285714,\n",
       " 'MEM': 0.02857142857142857,\n",
       " 'LGA': 0.5714285714285714,\n",
       " 'FLL': 0.05714285714285714,\n",
       " 'SEA': 0.05714285714285714,\n",
       " 'JFK': 0.4857142857142857,\n",
       " 'DEN': 0.05714285714285714,\n",
       " 'ORD': 0.05714285714285714,\n",
       " 'MIA': 0.05714285714285714,\n",
       " 'PBI': 0.08571428571428572,\n",
       " 'MCO': 0.08571428571428572,\n",
       " 'CMH': 0.02857142857142857,\n",
       " 'MSP': 0.05714285714285714,\n",
       " 'IAD': 0.08571428571428572,\n",
       " 'CLT': 0.05714285714285714,\n",
       " 'TPA': 0.08571428571428572,\n",
       " 'DCA': 0.05714285714285714,\n",
       " 'SJU': 0.05714285714285714,\n",
       " 'ATL': 0.05714285714285714,\n",
       " 'BHM': 0.02857142857142857,\n",
       " 'SRQ': 0.02857142857142857,\n",
       " 'MSY': 0.02857142857142857,\n",
       " 'DTW': 0.05714285714285714,\n",
       " 'LAX': 0.05714285714285714,\n",
       " 'JAX': 0.02857142857142857,\n",
       " 'RDU': 0.05714285714285714,\n",
       " 'MDW': 0.02857142857142857,\n",
       " 'DFW': 0.02857142857142857,\n",
       " 'IAH': 0.05714285714285714,\n",
       " 'SFO': 0.02857142857142857,\n",
       " 'STL': 0.02857142857142857,\n",
       " 'CVG': 0.05714285714285714,\n",
       " 'IND': 0.02857142857142857,\n",
       " 'RSW': 0.02857142857142857,\n",
       " 'BOS': 0.05714285714285714,\n",
       " 'CLE': 0.02857142857142857}"
      ]
     },
     "execution_count": 23,
     "metadata": {},
     "output_type": "execute_result"
    }
   ],
   "source": [
    "nx.algorithms.degree_centrality(df)"
   ]
  },
  {
   "cell_type": "code",
   "execution_count": 45,
   "id": "b3df9e54",
   "metadata": {},
   "outputs": [
    {
     "data": {
      "text/plain": [
       "{20: 1.95, 1: 19.307692307692307, 2: 19.0625, 17: 2.0588235294117645, 3: 19.0}"
      ]
     },
     "execution_count": 45,
     "metadata": {},
     "output_type": "execute_result"
    }
   ],
   "source": [
    "# Out of scope but can be explored further\n",
    "# nx.average_degree_connectivity(df) # For a node of degree k - What is the average of its neighbours' degree?"
   ]
  },
  {
   "cell_type": "code",
   "execution_count": 43,
   "id": "149e2a0a",
   "metadata": {},
   "outputs": [
    {
     "name": "stdout",
     "output_type": "stream",
     "text": [
      "['JAX', 'JFK', 'DEN', 'LGA', 'ORD', 'EWR', 'DFW']\n",
      "['JAX', 'JFK', 'DEN', 'LGA', 'PBI', 'EWR', 'DFW']\n",
      "['JAX', 'JFK', 'DEN', 'LGA', 'IAD', 'EWR', 'DFW']\n",
      "['JAX', 'JFK', 'DEN', 'LGA', 'MIA', 'EWR', 'DFW']\n",
      "['JAX', 'JFK', 'DEN', 'LGA', 'RDU', 'EWR', 'DFW']\n",
      "['JAX', 'JFK', 'DEN', 'LGA', 'TPA', 'EWR', 'DFW']\n",
      "['JAX', 'JFK', 'DEN', 'LGA', 'MSP', 'EWR', 'DFW']\n",
      "['JAX', 'JFK', 'DEN', 'LGA', 'MCO', 'EWR', 'DFW']\n",
      "['JAX', 'JFK', 'DEN', 'LGA', 'CVG', 'EWR', 'DFW']\n",
      "['JAX', 'JFK', 'DEN', 'LGA', 'IAH', 'EWR', 'DFW']\n",
      "['JAX', 'JFK', 'SEA', 'EWR', 'DFW']\n",
      "['JAX', 'JFK', 'MCO', 'LGA', 'ORD', 'EWR', 'DFW']\n",
      "['JAX', 'JFK', 'MCO', 'LGA', 'PBI', 'EWR', 'DFW']\n",
      "['JAX', 'JFK', 'MCO', 'LGA', 'IAD', 'EWR', 'DFW']\n",
      "['JAX', 'JFK', 'MCO', 'LGA', 'MIA', 'EWR', 'DFW']\n",
      "['JAX', 'JFK', 'MCO', 'LGA', 'RDU', 'EWR', 'DFW']\n",
      "['JAX', 'JFK', 'MCO', 'LGA', 'TPA', 'EWR', 'DFW']\n",
      "['JAX', 'JFK', 'MCO', 'LGA', 'MSP', 'EWR', 'DFW']\n",
      "['JAX', 'JFK', 'MCO', 'LGA', 'CVG', 'EWR', 'DFW']\n",
      "['JAX', 'JFK', 'MCO', 'LGA', 'IAH', 'EWR', 'DFW']\n",
      "['JAX', 'JFK', 'MCO', 'EWR', 'DFW']\n",
      "['JAX', 'JFK', 'TPA', 'EWR', 'DFW']\n",
      "['JAX', 'JFK', 'TPA', 'LGA', 'ORD', 'EWR', 'DFW']\n",
      "['JAX', 'JFK', 'TPA', 'LGA', 'PBI', 'EWR', 'DFW']\n",
      "['JAX', 'JFK', 'TPA', 'LGA', 'IAD', 'EWR', 'DFW']\n",
      "['JAX', 'JFK', 'TPA', 'LGA', 'MIA', 'EWR', 'DFW']\n",
      "['JAX', 'JFK', 'TPA', 'LGA', 'RDU', 'EWR', 'DFW']\n",
      "['JAX', 'JFK', 'TPA', 'LGA', 'MSP', 'EWR', 'DFW']\n",
      "['JAX', 'JFK', 'TPA', 'LGA', 'MCO', 'EWR', 'DFW']\n",
      "['JAX', 'JFK', 'TPA', 'LGA', 'CVG', 'EWR', 'DFW']\n",
      "['JAX', 'JFK', 'TPA', 'LGA', 'IAH', 'EWR', 'DFW']\n",
      "['JAX', 'JFK', 'SJU', 'EWR', 'DFW']\n",
      "['JAX', 'JFK', 'ATL', 'LGA', 'ORD', 'EWR', 'DFW']\n",
      "['JAX', 'JFK', 'ATL', 'LGA', 'PBI', 'EWR', 'DFW']\n",
      "['JAX', 'JFK', 'ATL', 'LGA', 'IAD', 'EWR', 'DFW']\n",
      "['JAX', 'JFK', 'ATL', 'LGA', 'MIA', 'EWR', 'DFW']\n",
      "['JAX', 'JFK', 'ATL', 'LGA', 'RDU', 'EWR', 'DFW']\n",
      "['JAX', 'JFK', 'ATL', 'LGA', 'TPA', 'EWR', 'DFW']\n",
      "['JAX', 'JFK', 'ATL', 'LGA', 'MSP', 'EWR', 'DFW']\n",
      "['JAX', 'JFK', 'ATL', 'LGA', 'MCO', 'EWR', 'DFW']\n",
      "['JAX', 'JFK', 'ATL', 'LGA', 'CVG', 'EWR', 'DFW']\n",
      "['JAX', 'JFK', 'ATL', 'LGA', 'IAH', 'EWR', 'DFW']\n",
      "['JAX', 'JFK', 'DCA', 'LGA', 'ORD', 'EWR', 'DFW']\n",
      "['JAX', 'JFK', 'DCA', 'LGA', 'PBI', 'EWR', 'DFW']\n",
      "['JAX', 'JFK', 'DCA', 'LGA', 'IAD', 'EWR', 'DFW']\n",
      "['JAX', 'JFK', 'DCA', 'LGA', 'MIA', 'EWR', 'DFW']\n",
      "['JAX', 'JFK', 'DCA', 'LGA', 'RDU', 'EWR', 'DFW']\n",
      "['JAX', 'JFK', 'DCA', 'LGA', 'TPA', 'EWR', 'DFW']\n",
      "['JAX', 'JFK', 'DCA', 'LGA', 'MSP', 'EWR', 'DFW']\n",
      "['JAX', 'JFK', 'DCA', 'LGA', 'MCO', 'EWR', 'DFW']\n",
      "['JAX', 'JFK', 'DCA', 'LGA', 'CVG', 'EWR', 'DFW']\n",
      "['JAX', 'JFK', 'DCA', 'LGA', 'IAH', 'EWR', 'DFW']\n",
      "['JAX', 'JFK', 'DTW', 'LGA', 'ORD', 'EWR', 'DFW']\n",
      "['JAX', 'JFK', 'DTW', 'LGA', 'PBI', 'EWR', 'DFW']\n",
      "['JAX', 'JFK', 'DTW', 'LGA', 'IAD', 'EWR', 'DFW']\n",
      "['JAX', 'JFK', 'DTW', 'LGA', 'MIA', 'EWR', 'DFW']\n",
      "['JAX', 'JFK', 'DTW', 'LGA', 'RDU', 'EWR', 'DFW']\n",
      "['JAX', 'JFK', 'DTW', 'LGA', 'TPA', 'EWR', 'DFW']\n",
      "['JAX', 'JFK', 'DTW', 'LGA', 'MSP', 'EWR', 'DFW']\n",
      "['JAX', 'JFK', 'DTW', 'LGA', 'MCO', 'EWR', 'DFW']\n",
      "['JAX', 'JFK', 'DTW', 'LGA', 'CVG', 'EWR', 'DFW']\n",
      "['JAX', 'JFK', 'DTW', 'LGA', 'IAH', 'EWR', 'DFW']\n",
      "['JAX', 'JFK', 'LAX', 'EWR', 'DFW']\n",
      "['JAX', 'JFK', 'FLL', 'LGA', 'ORD', 'EWR', 'DFW']\n",
      "['JAX', 'JFK', 'FLL', 'LGA', 'PBI', 'EWR', 'DFW']\n",
      "['JAX', 'JFK', 'FLL', 'LGA', 'IAD', 'EWR', 'DFW']\n",
      "['JAX', 'JFK', 'FLL', 'LGA', 'MIA', 'EWR', 'DFW']\n",
      "['JAX', 'JFK', 'FLL', 'LGA', 'RDU', 'EWR', 'DFW']\n",
      "['JAX', 'JFK', 'FLL', 'LGA', 'TPA', 'EWR', 'DFW']\n",
      "['JAX', 'JFK', 'FLL', 'LGA', 'MSP', 'EWR', 'DFW']\n",
      "['JAX', 'JFK', 'FLL', 'LGA', 'MCO', 'EWR', 'DFW']\n",
      "['JAX', 'JFK', 'FLL', 'LGA', 'CVG', 'EWR', 'DFW']\n",
      "['JAX', 'JFK', 'FLL', 'LGA', 'IAH', 'EWR', 'DFW']\n",
      "['JAX', 'JFK', 'CLT', 'LGA', 'ORD', 'EWR', 'DFW']\n",
      "['JAX', 'JFK', 'CLT', 'LGA', 'PBI', 'EWR', 'DFW']\n",
      "['JAX', 'JFK', 'CLT', 'LGA', 'IAD', 'EWR', 'DFW']\n",
      "['JAX', 'JFK', 'CLT', 'LGA', 'MIA', 'EWR', 'DFW']\n",
      "['JAX', 'JFK', 'CLT', 'LGA', 'RDU', 'EWR', 'DFW']\n",
      "['JAX', 'JFK', 'CLT', 'LGA', 'TPA', 'EWR', 'DFW']\n",
      "['JAX', 'JFK', 'CLT', 'LGA', 'MSP', 'EWR', 'DFW']\n",
      "['JAX', 'JFK', 'CLT', 'LGA', 'MCO', 'EWR', 'DFW']\n",
      "['JAX', 'JFK', 'CLT', 'LGA', 'CVG', 'EWR', 'DFW']\n",
      "['JAX', 'JFK', 'CLT', 'LGA', 'IAH', 'EWR', 'DFW']\n",
      "['JAX', 'JFK', 'PBI', 'LGA', 'ORD', 'EWR', 'DFW']\n",
      "['JAX', 'JFK', 'PBI', 'LGA', 'IAD', 'EWR', 'DFW']\n",
      "['JAX', 'JFK', 'PBI', 'LGA', 'MIA', 'EWR', 'DFW']\n",
      "['JAX', 'JFK', 'PBI', 'LGA', 'RDU', 'EWR', 'DFW']\n",
      "['JAX', 'JFK', 'PBI', 'LGA', 'TPA', 'EWR', 'DFW']\n",
      "['JAX', 'JFK', 'PBI', 'LGA', 'MSP', 'EWR', 'DFW']\n",
      "['JAX', 'JFK', 'PBI', 'LGA', 'MCO', 'EWR', 'DFW']\n",
      "['JAX', 'JFK', 'PBI', 'LGA', 'CVG', 'EWR', 'DFW']\n",
      "['JAX', 'JFK', 'PBI', 'LGA', 'IAH', 'EWR', 'DFW']\n",
      "['JAX', 'JFK', 'PBI', 'EWR', 'DFW']\n",
      "['JAX', 'JFK', 'IAD', 'LGA', 'ORD', 'EWR', 'DFW']\n",
      "['JAX', 'JFK', 'IAD', 'LGA', 'PBI', 'EWR', 'DFW']\n",
      "['JAX', 'JFK', 'IAD', 'LGA', 'MIA', 'EWR', 'DFW']\n",
      "['JAX', 'JFK', 'IAD', 'LGA', 'RDU', 'EWR', 'DFW']\n",
      "['JAX', 'JFK', 'IAD', 'LGA', 'TPA', 'EWR', 'DFW']\n",
      "['JAX', 'JFK', 'IAD', 'LGA', 'MSP', 'EWR', 'DFW']\n",
      "['JAX', 'JFK', 'IAD', 'LGA', 'MCO', 'EWR', 'DFW']\n",
      "['JAX', 'JFK', 'IAD', 'LGA', 'CVG', 'EWR', 'DFW']\n",
      "['JAX', 'JFK', 'IAD', 'LGA', 'IAH', 'EWR', 'DFW']\n",
      "['JAX', 'JFK', 'IAD', 'EWR', 'DFW']\n",
      "['JAX', 'JFK', 'BOS', 'EWR', 'DFW']\n"
     ]
    }
   ],
   "source": [
    "# Let us find all the paths available\n",
    "for path in nx.all_simple_paths(df, source='JAX', target='DFW'):\n",
    " print(path)"
   ]
  },
  {
   "cell_type": "markdown",
   "id": "465a5da0",
   "metadata": {},
   "source": [
    "- Let us find the dijkstra path\n",
    "- You can read more in-depth on how dijkstra works from this resource https://courses.csail.mit.edu/6.006/fall11/lectures/lecture16.pdf"
   ]
  },
  {
   "cell_type": "code",
   "execution_count": 14,
   "id": "e76c7adf",
   "metadata": {},
   "outputs": [
    {
     "data": {
      "text/plain": [
       "['ATL', 'JFK', 'PBI']"
      ]
     },
     "execution_count": 14,
     "metadata": {},
     "output_type": "execute_result"
    }
   ],
   "source": [
    "shortest_path_distance = nx.dijkstra_path(df, source='ATL', target='PBI', weight='distance')\n",
    "shortest_path_distance"
   ]
  },
  {
   "cell_type": "code",
   "execution_count": 19,
   "id": "8a56d8ef",
   "metadata": {},
   "outputs": [
    {
     "data": {
      "text/plain": [
       "['ATL', 'LGA', 'PBI']"
      ]
     },
     "execution_count": 19,
     "metadata": {},
     "output_type": "execute_result"
    }
   ],
   "source": [
    "shortest_path_airtime = nx.dijkstra_path(df, source='ATL', target='PBI', weight='air_time')\n",
    "shortest_path_airtime"
   ]
  },
  {
   "cell_type": "code",
   "execution_count": null,
   "id": "0e850060",
   "metadata": {},
   "outputs": [],
   "source": []
  },
  {
   "cell_type": "code",
   "execution_count": 24,
   "id": "72128766",
   "metadata": {},
   "outputs": [
    {
     "data": {
      "text/plain": [
       "['JAX', 'JFK', 'BOS', 'EWR', 'DFW']"
      ]
     },
     "execution_count": 24,
     "metadata": {},
     "output_type": "execute_result"
    }
   ],
   "source": [
    "nx.dijkstra_path(df, source='JAX', target='DFW', weight='air_time')"
   ]
  }
 ],
 "metadata": {
  "kernelspec": {
   "display_name": "Python 3 (ipykernel)",
   "language": "python",
   "name": "python3"
  },
  "language_info": {
   "codemirror_mode": {
    "name": "ipython",
    "version": 3
   },
   "file_extension": ".py",
   "mimetype": "text/x-python",
   "name": "python",
   "nbconvert_exporter": "python",
   "pygments_lexer": "ipython3",
   "version": "3.8.12"
  }
 },
 "nbformat": 4,
 "nbformat_minor": 5
}
